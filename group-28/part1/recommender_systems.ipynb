{
 "cells": [
  {
   "cell_type": "markdown",
   "id": "ef5724c0",
   "metadata": {},
   "source": [
    "# Recommender systems"
   ]
  },
  {
   "cell_type": "markdown",
   "id": "39550153",
   "metadata": {},
   "source": [
    "## 1.3 Matrix Factorization"
   ]
  },
  {
   "cell_type": "code",
   "execution_count": 1,
   "id": "3b773288",
   "metadata": {},
   "outputs": [],
   "source": [
    "# -*- coding: utf-8 -*-\n",
    "\n",
    "import sklearn\n",
    "from sklearn.model_selection import KFold\n",
    "import pandas as pd\n",
    "import numpy as np\n",
    "import multiprocessing\n",
    "\n",
    "path = \"./ml-1m/ratings.dat\"\n",
    "seeds = 1\n",
    "\n",
    "\n",
    "class GravityTikk():\n",
    "    \"\"\"\n",
    "    Implement 1.3 Matrix Factorization.\n",
    "    Args:\n",
    "        path: File path.\n",
    "        num_factors: The number of features.\n",
    "        num_iter: Max iterations.\n",
    "        regularization: factor lambda of regularization term.\n",
    "        learn_rate: Learning rate.\n",
    "        seeds: Set the random state.\n",
    "        save_info: Path to save feature matrices.\n",
    "    \"\"\"\n",
    "    def __init__(self, path, num_factors, num_iter, regularization, learn_rate, seeds, save_info):\n",
    "        self.path = path\n",
    "        self.num_factors = num_factors\n",
    "        self.num_iter = num_iter\n",
    "        self.regularization = regularization\n",
    "        self.learn_rate = learn_rate\n",
    "        self.seeds = seeds\n",
    "        self.save_info = save_info\n",
    "        self.I = 6040\n",
    "        self.J = 3952\n",
    "        self.table = pd.read_table(self.path, sep=\"::\", names=[\"UserID\", \"MovieID\", \"Rating\", \"Timestamp\"], \n",
    "                                   engine=\"python\")\n",
    "    \n",
    "    def _train_iteration(self, U, M, table_train):\n",
    "        \"\"\"\n",
    "        One iteration of training model.\n",
    "        \"\"\"\n",
    "        for i in range(table_train.shape[0]):\n",
    "            # Calculate the error\n",
    "            error = table_train[i, 2] - np.matmul(U[table_train[i, 0] - 1, :], M[:, table_train[i, 1] - 1])\n",
    "        \n",
    "            # Calculate the gradient\n",
    "            gradient_U = 2 * error * M[:, table_train[i, 1] - 1] - self.regularization * U[table_train[i, 0] - 1, :]\n",
    "            gradient_M = 2 * error * U[table_train[i, 0] - 1, :] - self.regularization * M[:, table_train[i, 1] - 1]\n",
    "            \n",
    "            # Update U, M\n",
    "            U[table_train[i, 0] - 1, :] += self.learn_rate * gradient_U\n",
    "            M[:, table_train[i, 1] - 1] += self.learn_rate * gradient_M\n",
    "        \n",
    "        return U, M\n",
    "    \n",
    "    def _evaluation(self, U, M, table_test):\n",
    "        \"\"\"\n",
    "        Evaluate model performance.\n",
    "        \"\"\"\n",
    "        y_true = table_test[:, 2]\n",
    "        y_pred = []\n",
    "        \n",
    "        for i in range(table_test.shape[0]):\n",
    "            y_pred.append(np.matmul(U[table_test[i, 0] - 1, :], M[:, table_test[i, 1] - 1]))\n",
    "        \n",
    "        # If y_pred < 1, y_pred = 1. If y_pred > 5, y_pred = 5.\n",
    "        y_pred = np.array(y_pred)\n",
    "        y_pred = np.where(y_pred < 1, 1, y_pred)\n",
    "        y_pred = np.where(y_pred > 5, 5, y_pred)\n",
    "        \n",
    "        # Calculate RMSE and MAE\n",
    "        rmse = np.sqrt(np.mean((y_true - y_pred) ** 2))\n",
    "        mae = np.mean(np.abs(y_true - y_pred))\n",
    "        return rmse, mae\n",
    "        \n",
    "    def run_model(self, train_index, test_index, num_work=0):\n",
    "        \"\"\"\n",
    "        Run the experiment on one fold.\n",
    "        \"\"\"\n",
    "        table_train, table_test = self.table.iloc[train_index], self.table.iloc[test_index]\n",
    "        table_train, table_test = table_train.to_numpy(), table_test.to_numpy()\n",
    "\n",
    "        # Initialization\n",
    "        np.random.seed(self.seeds)\n",
    "        U = np.random.normal(0, 0.1, (self.I, self.num_factors))\n",
    "        np.random.seed(self.seeds)\n",
    "        M = np.random.normal(0, 0.1, (self.num_factors, self.J))\n",
    "\n",
    "        # Training model\n",
    "        for epoch in range(num_iter):\n",
    "            info = f\"\\rWorker {num_work}: {epoch} epoch.\\r\"\n",
    "            print(info, end=\"\")\n",
    "            U, M = self._train_iteration(U, M, table_train)\n",
    "            print(\" \" * len(info), end=\"\")\n",
    "            \n",
    "        # Save U, M\n",
    "        np.save(f\"./UM/{self.save_info}_U_{num_work}.npy\", U) \n",
    "        np.save(f\"./UM/{self.save_info}_M_{num_work}.npy\", M)\n",
    "        \n",
    "        # Evaluating model\n",
    "        rmse, mae = self._evaluation(U, M, table_test)\n",
    "        self.rmse_lst.append(rmse)\n",
    "        self.mae_lst.append(mae)\n",
    "        print(f\"\\rWorker {num_work}: Done, RMSE: {rmse}, MAE: {mae}.\")\n",
    "        \n",
    "    def main(self):\n",
    "        kf = KFold(n_splits=5, shuffle=True, random_state=self.seeds) # five folds\n",
    "        arg_lst = []\n",
    "        num_work = 1\n",
    "        for train_index, test_index in kf.split(self.table):\n",
    "            arg_lst.append((train_index, test_index, num_work))\n",
    "            num_work += 1\n",
    "        \n",
    "        # Multiprocessing\n",
    "        manager = multiprocessing.Manager()\n",
    "        self.rmse_lst = manager.list()\n",
    "        self.mae_lst = manager.list()\n",
    "        workers = []\n",
    "        for i in range(5):\n",
    "            p = multiprocessing.Process(target=self.run_model, args=arg_lst[i])\n",
    "            workers.append(p)\n",
    "            p.start()\n",
    "\n",
    "        for p in workers:\n",
    "            p.join()\n",
    "\n",
    "        self.rmse_lst = np.array(self.rmse_lst)\n",
    "        self.mae_lst = np.array(self.mae_lst)\n",
    "        print(f\"\\nRMSE Mean: {np.mean(self.rmse_lst)}\")\n",
    "        print(f\"RMSE std: {np.std(self.rmse_lst)}\")\n",
    "        print(f\"\\nMAE Mean: {np.mean(self.mae_lst)}\")\n",
    "        print(f\"MAE std: {np.std(self.mae_lst)}\")"
   ]
  },
  {
   "cell_type": "code",
   "execution_count": 2,
   "id": "61452721",
   "metadata": {},
   "outputs": [
    {
     "name": "stdout",
     "output_type": "stream",
     "text": [
      "Worker 4: Done, RMSE: 0.8681647402923015, MAE: 0.6778429775492133.\n",
      "Worker 3: Done, RMSE: 0.8667277030457634, MAE: 0.6771413764266705.\n",
      "Worker 1: Done, RMSE: 0.8688135792354811, MAE: 0.6793417110229322.\n",
      "Worker 2: Done, RMSE: 0.869961123237032, MAE: 0.6795618867494324.\n",
      "Worker 5: Done, RMSE: 0.869252118445245, MAE: 0.6788092372142813.\n",
      "\n",
      "RMSE Mean: 0.8685838528511646\n",
      "RMSE std: 0.0010970117837797114\n",
      "\n",
      "MAE Mean: 0.6785394377925058\n",
      "MAE std: 0.0009166753391357066\n",
      "CPU times: user 3.31 s, sys: 243 ms, total: 3.56 s\n",
      "Wall time: 13min 38s\n"
     ]
    }
   ],
   "source": [
    "%%time\n",
    "# Hyperparameters: Setting 1, Suggested Setting\n",
    "num_factors = 10\n",
    "num_iter = 75\n",
    "regularization = 0.05\n",
    "learn_rate = 0.005\n",
    "\n",
    "model = GravityTikk(path, num_factors, num_iter, regularization, learn_rate, seeds, \"Setting_1\")\n",
    "model.main()"
   ]
  },
  {
   "cell_type": "code",
   "execution_count": 3,
   "id": "d0cf0aec",
   "metadata": {},
   "outputs": [
    {
     "name": "stdout",
     "output_type": "stream",
     "text": [
      "Worker 5: Done, RMSE: 0.8853501529849257, MAE: 0.6877561033227745.\n",
      "Worker 3: Done, RMSE: 0.8826690432936825, MAE: 0.6864840763568284.\n",
      "Worker 4: Done, RMSE: 0.8849430954431121, MAE: 0.6878591775524062.\n",
      "Worker 1: Done, RMSE: 0.8850883813443313, MAE: 0.6885226869761961.\n",
      "Worker 2: Done, RMSE: 0.8858082288824141, MAE: 0.6883424110941695.\n",
      "\n",
      "RMSE Mean: 0.8847717803896931\n",
      "RMSE std: 0.001091771830001555\n",
      "\n",
      "MAE Mean: 0.6877928910604749\n",
      "MAE std: 0.0007146072363437182\n",
      "CPU times: user 3.15 s, sys: 269 ms, total: 3.42 s\n",
      "Wall time: 18min 38s\n"
     ]
    }
   ],
   "source": [
    "%%time\n",
    "# Hyperparameters: Setting 2\n",
    "num_factors = 20\n",
    "num_iter = 75\n",
    "regularization = 0.05\n",
    "learn_rate = 0.005\n",
    "\n",
    "model = GravityTikk(path, num_factors, num_iter, regularization, learn_rate, seeds, \"Setting_2\")\n",
    "model.main()"
   ]
  },
  {
   "cell_type": "code",
   "execution_count": 4,
   "id": "9757d7ec",
   "metadata": {},
   "outputs": [
    {
     "name": "stdout",
     "output_type": "stream",
     "text": [
      "Worker 3: Done, RMSE: 0.8680923980044838, MAE: 0.6778206777685686.\n",
      "Worker 1: Done, RMSE: 0.8701534264618374, MAE: 0.6800962248980237.\n",
      "Worker 2: Done, RMSE: 0.8711468042809881, MAE: 0.6802037689134355.\n",
      "Worker 4: Done, RMSE: 0.8697171843897353, MAE: 0.6787139198311353.\n",
      "Worker 5: Done, RMSE: 0.8707837737807261, MAE: 0.6796100573091163.\n",
      "\n",
      "RMSE Mean: 0.869978717383554\n",
      "RMSE std: 0.0010648630307538373\n",
      "\n",
      "MAE Mean: 0.6792889297440559\n",
      "MAE std: 0.0009031256111939246\n",
      "CPU times: user 3.28 s, sys: 299 ms, total: 3.57 s\n",
      "Wall time: 24min 52s\n"
     ]
    }
   ],
   "source": [
    "%%time\n",
    "# Hyperparameters: Setting 3\n",
    "num_factors = 10\n",
    "num_iter = 100\n",
    "regularization = 0.05\n",
    "learn_rate = 0.005\n",
    "\n",
    "model = GravityTikk(path, num_factors, num_iter, regularization, learn_rate, seeds, \"Setting_3\")\n",
    "model.main()"
   ]
  },
  {
   "cell_type": "code",
   "execution_count": 5,
   "id": "9a0e2085",
   "metadata": {},
   "outputs": [
    {
     "name": "stdout",
     "output_type": "stream",
     "text": [
      "Worker 2: Done, RMSE: 0.8818924101549159, MAE: 0.6839446153786101.\n",
      "Worker 3: Done, RMSE: 0.8792546811915221, MAE: 0.6814628644315769.\n",
      "Worker 5: Done, RMSE: 0.881042540260366, MAE: 0.6829680176699284.\n",
      "Worker 4: Done, RMSE: 0.8800734003309089, MAE: 0.6821658987625727.\n",
      "Worker 1: Done, RMSE: 0.8813513623505448, MAE: 0.6839251525032416.\n",
      "\n",
      "RMSE Mean: 0.8807228788576514\n",
      "RMSE std: 0.0009425927128970909\n",
      "\n",
      "MAE Mean: 0.6828933097491859\n",
      "MAE std: 0.0009747640554609066\n",
      "CPU times: user 3.06 s, sys: 266 ms, total: 3.33 s\n",
      "Wall time: 18min 49s\n"
     ]
    }
   ],
   "source": [
    "%%time\n",
    "# Hyperparameters: Setting 4\n",
    "num_factors = 10\n",
    "num_iter = 75\n",
    "regularization = 0.01\n",
    "learn_rate = 0.005\n",
    "\n",
    "model = GravityTikk(path, num_factors, num_iter, regularization, learn_rate, seeds, \"Setting_4\")\n",
    "model.main()"
   ]
  },
  {
   "cell_type": "code",
   "execution_count": 6,
   "id": "56baca50",
   "metadata": {},
   "outputs": [
    {
     "name": "stdout",
     "output_type": "stream",
     "text": [
      "Worker 2: Done, RMSE: 0.8635206324338419, MAE: 0.6780072350774219.\n",
      "Worker 4: Done, RMSE: 0.861120907669563, MAE: 0.6759132640553595.\n",
      "Worker 3: Done, RMSE: 0.8583405702971703, MAE: 0.6746248330543247.\n",
      "Worker 1: Done, RMSE: 0.8606193243204672, MAE: 0.6763413993038675.\n",
      "Worker 5: Done, RMSE: 0.8616604275949277, MAE: 0.6764743933286965.\n",
      "\n",
      "RMSE Mean: 0.8610523724631941\n",
      "RMSE std: 0.0016738062660901203\n",
      "\n",
      "MAE Mean: 0.676272224963934\n",
      "MAE std: 0.0010861556305292468\n",
      "CPU times: user 3.02 s, sys: 294 ms, total: 3.32 s\n",
      "Wall time: 18min 42s\n"
     ]
    }
   ],
   "source": [
    "%%time\n",
    "# Hyperparameters: Setting 5\n",
    "num_factors = 10\n",
    "num_iter = 75\n",
    "regularization = 0.05\n",
    "learn_rate = 0.001\n",
    "\n",
    "model = GravityTikk(path, num_factors, num_iter, regularization, learn_rate, seeds, \"Setting_5\")\n",
    "model.main()"
   ]
  }
 ],
 "metadata": {
  "kernelspec": {
   "display_name": "Python 3 (ipykernel)",
   "language": "python",
   "name": "python3"
  },
  "language_info": {
   "codemirror_mode": {
    "name": "ipython",
    "version": 3
   },
   "file_extension": ".py",
   "mimetype": "text/x-python",
   "name": "python",
   "nbconvert_exporter": "python",
   "pygments_lexer": "ipython3",
   "version": "3.9.13"
  }
 },
 "nbformat": 4,
 "nbformat_minor": 5
}
