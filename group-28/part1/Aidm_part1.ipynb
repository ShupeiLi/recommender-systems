{
 "cells": [
  {
   "cell_type": "code",
   "execution_count": 1,
   "metadata": {},
   "outputs": [],
   "source": [
    "import sklearn\n",
    "from sklearn.model_selection import KFold\n",
    "import pandas as pd\n",
    "import numpy as np\n",
    "from sklearn.linear_model import LinearRegression\n",
    "import multiprocessing"
   ]
  },
  {
   "cell_type": "code",
   "execution_count": 2,
   "metadata": {},
   "outputs": [
    {
     "data": {
      "text/html": [
       "<div>\n",
       "<style scoped>\n",
       "    .dataframe tbody tr th:only-of-type {\n",
       "        vertical-align: middle;\n",
       "    }\n",
       "\n",
       "    .dataframe tbody tr th {\n",
       "        vertical-align: top;\n",
       "    }\n",
       "\n",
       "    .dataframe thead th {\n",
       "        text-align: right;\n",
       "    }\n",
       "</style>\n",
       "<table border=\"1\" class=\"dataframe\">\n",
       "  <thead>\n",
       "    <tr style=\"text-align: right;\">\n",
       "      <th></th>\n",
       "      <th>UserID</th>\n",
       "      <th>MovieID</th>\n",
       "      <th>Rating</th>\n",
       "      <th>Timestamp</th>\n",
       "    </tr>\n",
       "  </thead>\n",
       "  <tbody>\n",
       "    <tr>\n",
       "      <th>0</th>\n",
       "      <td>1</td>\n",
       "      <td>1193</td>\n",
       "      <td>5</td>\n",
       "      <td>978300760</td>\n",
       "    </tr>\n",
       "    <tr>\n",
       "      <th>1</th>\n",
       "      <td>1</td>\n",
       "      <td>661</td>\n",
       "      <td>3</td>\n",
       "      <td>978302109</td>\n",
       "    </tr>\n",
       "    <tr>\n",
       "      <th>2</th>\n",
       "      <td>1</td>\n",
       "      <td>914</td>\n",
       "      <td>3</td>\n",
       "      <td>978301968</td>\n",
       "    </tr>\n",
       "    <tr>\n",
       "      <th>3</th>\n",
       "      <td>1</td>\n",
       "      <td>3408</td>\n",
       "      <td>4</td>\n",
       "      <td>978300275</td>\n",
       "    </tr>\n",
       "    <tr>\n",
       "      <th>4</th>\n",
       "      <td>1</td>\n",
       "      <td>2355</td>\n",
       "      <td>5</td>\n",
       "      <td>978824291</td>\n",
       "    </tr>\n",
       "    <tr>\n",
       "      <th>...</th>\n",
       "      <td>...</td>\n",
       "      <td>...</td>\n",
       "      <td>...</td>\n",
       "      <td>...</td>\n",
       "    </tr>\n",
       "    <tr>\n",
       "      <th>1000204</th>\n",
       "      <td>6040</td>\n",
       "      <td>1091</td>\n",
       "      <td>1</td>\n",
       "      <td>956716541</td>\n",
       "    </tr>\n",
       "    <tr>\n",
       "      <th>1000205</th>\n",
       "      <td>6040</td>\n",
       "      <td>1094</td>\n",
       "      <td>5</td>\n",
       "      <td>956704887</td>\n",
       "    </tr>\n",
       "    <tr>\n",
       "      <th>1000206</th>\n",
       "      <td>6040</td>\n",
       "      <td>562</td>\n",
       "      <td>5</td>\n",
       "      <td>956704746</td>\n",
       "    </tr>\n",
       "    <tr>\n",
       "      <th>1000207</th>\n",
       "      <td>6040</td>\n",
       "      <td>1096</td>\n",
       "      <td>4</td>\n",
       "      <td>956715648</td>\n",
       "    </tr>\n",
       "    <tr>\n",
       "      <th>1000208</th>\n",
       "      <td>6040</td>\n",
       "      <td>1097</td>\n",
       "      <td>4</td>\n",
       "      <td>956715569</td>\n",
       "    </tr>\n",
       "  </tbody>\n",
       "</table>\n",
       "<p>1000209 rows × 4 columns</p>\n",
       "</div>"
      ],
      "text/plain": [
       "         UserID  MovieID  Rating  Timestamp\n",
       "0             1     1193       5  978300760\n",
       "1             1      661       3  978302109\n",
       "2             1      914       3  978301968\n",
       "3             1     3408       4  978300275\n",
       "4             1     2355       5  978824291\n",
       "...         ...      ...     ...        ...\n",
       "1000204    6040     1091       1  956716541\n",
       "1000205    6040     1094       5  956704887\n",
       "1000206    6040      562       5  956704746\n",
       "1000207    6040     1096       4  956715648\n",
       "1000208    6040     1097       4  956715569\n",
       "\n",
       "[1000209 rows x 4 columns]"
      ]
     },
     "execution_count": 2,
     "metadata": {},
     "output_type": "execute_result"
    }
   ],
   "source": [
    "path = \"./ml-1m/ratings.dat\" #read the dataset\n",
    "table = pd.read_table(path, sep=\"::\", names=[\"UserID\", \"MovieID\", \"Rating\", \"Timestamp\"], \n",
    "                                   engine=\"python\")\n",
    "table"
   ]
  },
  {
   "cell_type": "code",
   "execution_count": 3,
   "metadata": {},
   "outputs": [],
   "source": [
    "def row_col_mean(row_col, index,dataset): #average of the row and col in the dataset\n",
    "    if row_col == \"row\":\n",
    "        return(dataset.loc[(dataset[\"UserID\"]==index), \"Rating\"].mean())\n",
    "    else:\n",
    "        return(dataset.loc[(dataset[\"MovieID\"]==index), \"Rating\"].mean())"
   ]
  },
  {
   "cell_type": "code",
   "execution_count": 4,
   "metadata": {},
   "outputs": [],
   "source": [
    "def DataRouter(dataset): \n",
    "    \"\"\"\n",
    "    data preprocess for linear regression\n",
    "    dataset: train or test, pd dataframe\n",
    "    return: X, Y for linear regression\n",
    "    \"\"\"\n",
    "    user_mean = dict()\n",
    "    movie_mean = dict()\n",
    "    for i in dataset['UserID'].unique():\n",
    "        user_mean[i] = row_col_mean(\"row\", i, dataset)\n",
    "    for i in dataset['MovieID'].unique():\n",
    "        movie_mean[i] = row_col_mean(\"col\", i, dataset)\n",
    "    \n",
    "    dataset['X1'] = '' \n",
    "    dataset['X2'] = ''\n",
    "\n",
    "    for index, row in dataset.iterrows():\n",
    "        dataset.loc[index, 'X1'] = user_mean[row['UserID']]\n",
    "        dataset.loc[index, 'X2'] = movie_mean[row['MovieID']]\n",
    "    X = dataset.loc[:,['X1','X2']].values\n",
    "    Y = dataset.loc[:,['Rating']].values  \n",
    "    return(X, Y)"
   ]
  },
  {
   "cell_type": "code",
   "execution_count": 5,
   "metadata": {},
   "outputs": [],
   "source": [
    "def LinearReg(X, Y):\n",
    "    reg = LinearRegression().fit(X, Y)\n",
    "    coef = reg.coef_\n",
    "    intercept = reg.intercept_\n",
    "    return(coef, intercept)"
   ]
  },
  {
   "cell_type": "code",
   "execution_count": 6,
   "metadata": {},
   "outputs": [],
   "source": [
    "def LinearRegNoIntercept(X, Y):\n",
    "    reg = LinearRegression(fit_intercept=False).fit(X, Y)\n",
    "    coef = reg.coef_\n",
    "    intercept = reg.intercept_\n",
    "    return(coef, intercept)"
   ]
  },
  {
   "cell_type": "code",
   "execution_count": 7,
   "metadata": {},
   "outputs": [],
   "source": [
    "def evaluation(X, Y, coef, intercept): \n",
    "    \"\"\"\n",
    "    evaluation for linear regression\n",
    "    \"\"\"\n",
    "    reg = LinearRegression().fit(X, Y)\n",
    "    reg.coef_ = coef\n",
    "    reg.intercept_ = intercept\n",
    "    \n",
    "    y_pred = np.array(reg.predict(X))\n",
    "    y_pred = np.where(y_pred < 1, 1, y_pred)\n",
    "    y_pred = np.where(y_pred > 5, 5, y_pred)\n",
    "\n",
    "    rmse = np.sqrt(np.mean((Y - y_pred) ** 2))\n",
    "    mae = np.mean(np.abs(Y - y_pred))\n",
    "    return(rmse,mae)"
   ]
  },
  {
   "cell_type": "code",
   "execution_count": 8,
   "metadata": {},
   "outputs": [],
   "source": [
    "#Kfold, test and train are set\n",
    "kf = KFold(n_splits=5, shuffle=True, random_state=1) "
   ]
  },
  {
   "cell_type": "code",
   "execution_count": 9,
   "metadata": {},
   "outputs": [
    {
     "name": "stdout",
     "output_type": "stream",
     "text": [
      "0.9001653681660222 0.7122092602307395\n",
      "0.9145443262957137 0.7247995102650913\n"
     ]
    }
   ],
   "source": [
    "#Liniear regression of two averages with intercept\n",
    "test_rmse_list = []\n",
    "test_mae_list = []\n",
    "train_rmse_list = []\n",
    "train_mae_list = []\n",
    "for train_index, test_index in kf.split(table):\n",
    "    train = table.loc[train_index.tolist(), [\"UserID\", \"MovieID\", \"Rating\"]]\n",
    "    test = table.loc[test_index.tolist(), [\"UserID\", \"MovieID\", \"Rating\"]]\n",
    "    \n",
    "    X_train, Y_train = DataRouter(train)\n",
    "    X_test, Y_test = DataRouter(test)\n",
    "    coef, interc = LinearReg(X_train, Y_train)\n",
    "    test_rmse, test_mae = evaluation(X_test, Y_test, coef, interc)\n",
    "    train_rmse, train_mae = evaluation(X_train, Y_train, coef, interc)\n",
    "    test_rmse_list.append(test_rmse)\n",
    "    test_mae_list.append(test_mae)\n",
    "    train_rmse_list.append(train_rmse)\n",
    "    train_mae_list.append(train_mae)\n",
    "print(np.mean(test_rmse_list),np.mean(test_mae_list))\n",
    "print(np.mean(train_rmse_list),np.mean(train_mae_list))"
   ]
  },
  {
   "cell_type": "code",
   "execution_count": 10,
   "metadata": {},
   "outputs": [
    {
     "name": "stdout",
     "output_type": "stream",
     "text": [
      "0.9344570734200918 0.748706056925681\n",
      "0.9465499537839577 0.7585512269178818\n"
     ]
    }
   ],
   "source": [
    "#Liniear regression of two averages without intercept\n",
    "test_rmse_list = []\n",
    "test_mae_list = []\n",
    "train_rmse_list = []\n",
    "train_mae_list = []\n",
    "for train_index, test_index in kf.split(table):\n",
    "    train = table.loc[train_index.tolist(), [\"UserID\", \"MovieID\", \"Rating\"]]\n",
    "    test = table.loc[test_index.tolist(), [\"UserID\", \"MovieID\", \"Rating\"]]\n",
    "    \n",
    "    X_train, Y_train = DataRouter(train)\n",
    "    X_test, Y_test = DataRouter(test)\n",
    "    coef, interc = LinearRegNoIntercept(X_train, Y_train)\n",
    "    test_rmse, test_mae = evaluation(X_test, Y_test, coef, interc)\n",
    "    train_rmse, train_mae = evaluation(X_train, Y_train, coef, interc)\n",
    "    test_rmse_list.append(test_rmse)\n",
    "    test_mae_list.append(test_mae)\n",
    "    train_rmse_list.append(train_rmse)\n",
    "    train_mae_list.append(train_mae)\n",
    "print(np.mean(test_rmse_list),np.mean(test_mae_list))\n",
    "print(np.mean(train_rmse_list),np.mean(train_mae_list))"
   ]
  },
  {
   "cell_type": "code",
   "execution_count": 11,
   "metadata": {},
   "outputs": [],
   "source": [
    "def global_avg(dataset): #calculate Global average rating\n",
    "    ga = dataset['Rating'].mean()\n",
    "    return(ga)"
   ]
  },
  {
   "cell_type": "code",
   "execution_count": 12,
   "metadata": {},
   "outputs": [
    {
     "name": "stdout",
     "output_type": "stream",
     "text": [
      "1.1170984720424795 0.9338595477225654\n",
      "1.1171011110023854 0.9338607806758029\n"
     ]
    }
   ],
   "source": [
    "test_rmse_list = []\n",
    "test_mae_list = []\n",
    "train_rmse_list = []\n",
    "train_mae_list = []\n",
    "for train_index, test_index in kf.split(table):\n",
    "    train = table.loc[train_index.tolist(), [\"UserID\", \"MovieID\", \"Rating\"]]\n",
    "    test = table.loc[test_index.tolist(), [\"UserID\", \"MovieID\", \"Rating\"]]\n",
    "    \n",
    "    test_rmse = np.sqrt(np.mean((test['Rating'] - global_avg(test))**2))\n",
    "    test_mae = np.mean(np.abs(test['Rating']- global_avg(test)))\n",
    "    train_rmse = np.sqrt(np.mean((train['Rating'] - global_avg(train))**2))\n",
    "    train_mae = np.mean(np.abs(train['Rating'] - global_avg(train)))\n",
    "\n",
    "    test_rmse_list.append(test_rmse)\n",
    "    test_mae_list.append(test_mae)\n",
    "    train_rmse_list.append(train_rmse)\n",
    "    train_mae_list.append(train_mae)\n",
    "print(np.mean(test_rmse_list),np.mean(test_mae_list))\n",
    "print(np.mean(train_rmse_list),np.mean(train_mae_list))"
   ]
  },
  {
   "cell_type": "code",
   "execution_count": 13,
   "metadata": {},
   "outputs": [
    {
     "name": "stdout",
     "output_type": "stream",
     "text": [
      "1.0354887413559504 0.8290076950378905\n",
      "1.0276718866687955 0.8227317798294085\n"
     ]
    }
   ],
   "source": [
    "#average rating per user\n",
    "test_rmse_list = []\n",
    "test_mae_list = []\n",
    "train_rmse_list = []\n",
    "train_mae_list = []\n",
    "for train_index, test_index in kf.split(table):\n",
    "    train = table.loc[train_index.tolist(), [\"UserID\", \"MovieID\", \"Rating\"]]\n",
    "    test = table.loc[test_index.tolist(), [\"UserID\", \"MovieID\", \"Rating\"]]\n",
    "    \n",
    "    user_avg = train[['UserID','Rating']].groupby('UserID').mean().renmae(columns={'Rating':'Average'})\n",
    "    train_merge = pd.merge(train, user_avg, on='UserID')\n",
    "    test_merge = pd.merge(test, user_avg, on='UserID')\n",
    "\n",
    "    test_rmse = np.sqrt(np.mean((test_merge['Rating'] - test_merge['Average'])**2))\n",
    "    test_mae = np.mean(np.abs(test_merge['Rating']- test_merge['Average']))\n",
    "    train_rmse = np.sqrt(np.mean((train_merge['Rating'] - train_merge['Average'])**2))\n",
    "    train_mae = np.mean(np.abs(train_merge['Rating'] - train_merge['Average']))\n",
    "\n",
    "    test_rmse_list.append(test_rmse)\n",
    "    test_mae_list.append(test_mae)\n",
    "    train_rmse_list.append(train_rmse)\n",
    "    train_mae_list.append(train_mae)\n",
    "print(np.mean(test_rmse_list),np.mean(test_mae_list))\n",
    "print(np.mean(train_rmse_list),np.mean(train_mae_list))"
   ]
  },
  {
   "cell_type": "code",
   "execution_count": 14,
   "metadata": {},
   "outputs": [
    {
     "name": "stdout",
     "output_type": "stream",
     "text": [
      "0.9794200889294983 0.782308674322367\n",
      "0.9742112263767705 0.7783430056529332\n"
     ]
    }
   ],
   "source": [
    "#average rating per item\n",
    "test_rmse_list = []\n",
    "test_mae_list = []\n",
    "train_rmse_list = []\n",
    "train_mae_list = []\n",
    "for train_index, test_index in kf.split(table):\n",
    "    train = table.loc[train_index.tolist(), [\"UserID\", \"MovieID\", \"Rating\"]]\n",
    "    test = table.loc[test_index.tolist(), [\"UserID\", \"MovieID\", \"Rating\"]]\n",
    "    \n",
    "    movie_avg = train[['MovieID','Rating']].groupby('MovieID').mean().renmae(columns={'Rating':'Average'})\n",
    "    train_merge = pd.merge(train, movie_avg, on='MovieID')\n",
    "    test_merge = pd.merge(test, movie_avg, on='MovieID')\n",
    "\n",
    "    test_rmse = np.sqrt(np.mean((test_merge['Rating'] - test_merge['Average'])**2))\n",
    "    test_mae = np.mean(np.abs(test_merge['Rating']- test_merge['Average']))\n",
    "    train_rmse = np.sqrt(np.mean((train_merge['Rating'] - train_merge['Average'])**2))\n",
    "    train_mae = np.mean(np.abs(train_merge['Rating'] - train_merge['Average']))\n",
    "\n",
    "    test_rmse_list.append(test_rmse)\n",
    "    test_mae_list.append(test_mae)\n",
    "    train_rmse_list.append(train_rmse)\n",
    "    train_mae_list.append(train_mae)\n",
    "print(np.mean(test_rmse_list),np.mean(test_mae_list))\n",
    "print(np.mean(train_rmse_list),np.mean(train_mae_list))"
   ]
  }
 ],
 "metadata": {
  "kernelspec": {
   "display_name": "Python 3.10.4 ('sna')",
   "language": "python",
   "name": "python3"
  },
  "language_info": {
   "codemirror_mode": {
    "name": "ipython",
    "version": 3
   },
   "file_extension": ".py",
   "mimetype": "text/x-python",
   "name": "python",
   "nbconvert_exporter": "python",
   "pygments_lexer": "ipython3",
   "version": "3.10.4"
  },
  "orig_nbformat": 4,
  "vscode": {
   "interpreter": {
    "hash": "e66268ec146ab187027fc60197ad46dfe791325fbb8008d3dd33801282ed846b"
   }
  }
 },
 "nbformat": 4,
 "nbformat_minor": 2
}
