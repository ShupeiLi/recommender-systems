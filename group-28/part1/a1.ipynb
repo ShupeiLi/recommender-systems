{
 "cells": [
  {
   "cell_type": "code",
   "execution_count": 1,
   "metadata": {},
   "outputs": [],
   "source": [
    "import numpy as np\n",
    "import pandas as pd\n",
    "from sklearn.model_selection import KFold"
   ]
  },
  {
   "cell_type": "code",
   "execution_count": 2,
   "metadata": {},
   "outputs": [],
   "source": [
    "ratings = pd.read_table(\"ratings.dat\", sep=\"::\", names=[\"UserID\", \"MovieID\", \"Rating\", \"Timestamp\"], engine=\"python\")"
   ]
  },
  {
   "cell_type": "code",
   "execution_count": null,
   "metadata": {},
   "outputs": [
    {
     "data": {
      "text/html": [
       "<div>\n",
       "<style scoped>\n",
       "    .dataframe tbody tr th:only-of-type {\n",
       "        vertical-align: middle;\n",
       "    }\n",
       "\n",
       "    .dataframe tbody tr th {\n",
       "        vertical-align: top;\n",
       "    }\n",
       "\n",
       "    .dataframe thead th {\n",
       "        text-align: right;\n",
       "    }\n",
       "</style>\n",
       "<table border=\"1\" class=\"dataframe\">\n",
       "  <thead>\n",
       "    <tr style=\"text-align: right;\">\n",
       "      <th></th>\n",
       "      <th>UserID</th>\n",
       "      <th>MovieID</th>\n",
       "      <th>Rating</th>\n",
       "    </tr>\n",
       "  </thead>\n",
       "  <tbody>\n",
       "    <tr>\n",
       "      <th>1</th>\n",
       "      <td>1</td>\n",
       "      <td>661</td>\n",
       "      <td>3</td>\n",
       "    </tr>\n",
       "    <tr>\n",
       "      <th>2</th>\n",
       "      <td>1</td>\n",
       "      <td>914</td>\n",
       "      <td>3</td>\n",
       "    </tr>\n",
       "    <tr>\n",
       "      <th>3</th>\n",
       "      <td>1</td>\n",
       "      <td>3408</td>\n",
       "      <td>4</td>\n",
       "    </tr>\n",
       "    <tr>\n",
       "      <th>4</th>\n",
       "      <td>1</td>\n",
       "      <td>2355</td>\n",
       "      <td>5</td>\n",
       "    </tr>\n",
       "    <tr>\n",
       "      <th>5</th>\n",
       "      <td>1</td>\n",
       "      <td>1197</td>\n",
       "      <td>3</td>\n",
       "    </tr>\n",
       "    <tr>\n",
       "      <th>...</th>\n",
       "      <td>...</td>\n",
       "      <td>...</td>\n",
       "      <td>...</td>\n",
       "    </tr>\n",
       "    <tr>\n",
       "      <th>1000204</th>\n",
       "      <td>6040</td>\n",
       "      <td>1091</td>\n",
       "      <td>1</td>\n",
       "    </tr>\n",
       "    <tr>\n",
       "      <th>1000205</th>\n",
       "      <td>6040</td>\n",
       "      <td>1094</td>\n",
       "      <td>5</td>\n",
       "    </tr>\n",
       "    <tr>\n",
       "      <th>1000206</th>\n",
       "      <td>6040</td>\n",
       "      <td>562</td>\n",
       "      <td>5</td>\n",
       "    </tr>\n",
       "    <tr>\n",
       "      <th>1000207</th>\n",
       "      <td>6040</td>\n",
       "      <td>1096</td>\n",
       "      <td>4</td>\n",
       "    </tr>\n",
       "    <tr>\n",
       "      <th>1000208</th>\n",
       "      <td>6040</td>\n",
       "      <td>1097</td>\n",
       "      <td>4</td>\n",
       "    </tr>\n",
       "  </tbody>\n",
       "</table>\n",
       "<p>800167 rows × 3 columns</p>\n",
       "</div>"
      ],
      "text/plain": [
       "         UserID  MovieID  Rating\n",
       "1             1      661       3\n",
       "2             1      914       3\n",
       "3             1     3408       4\n",
       "4             1     2355       5\n",
       "5             1     1197       3\n",
       "...         ...      ...     ...\n",
       "1000204    6040     1091       1\n",
       "1000205    6040     1094       5\n",
       "1000206    6040      562       5\n",
       "1000207    6040     1096       4\n",
       "1000208    6040     1097       4\n",
       "\n",
       "[800167 rows x 3 columns]"
      ]
     },
     "execution_count": 66,
     "metadata": {},
     "output_type": "execute_result"
    }
   ],
   "source": [
    "kf = KFold(n_splits=5, shuffle=True)\n",
    "\n",
    "for _train, _test in kf.split(ratings):\n",
    "    train = ratings.loc[_train.tolist(), [\"UserID\", \"MovieID\", \"Rating\"]]\n",
    "    test = ratings.loc[_test.tolist(), [\"UserID\", \"MovieID\", \"Rating\"]]\n",
    "    break\n",
    "\n",
    "train"
   ]
  },
  {
   "cell_type": "code",
   "execution_count": null,
   "metadata": {},
   "outputs": [],
   "source": [
    "def update_U(index, M, U, V):\n",
    "    r, s = index\n",
    "    m_nrow = M.shape[0]\n",
    "    m_ncol = M.shape[1]\n",
    "    sum_1 = 0\n",
    "    sum_2 = 0\n",
    "\n",
    "    for j in range(m_ncol):\n",
    "        if not np.isnan(M[r, j]):\n",
    "            prod = np.matmul(U[r, :], V[:, j]) - U[r, s] * V[s, j]\n",
    "            sum_1 += V[s, j] * (M[r, j] - prod)\n",
    "            sum_2 += V[s, j] ** 2\n",
    "\n",
    "    U[r, s] = sum_1 / sum_2\n",
    "\n",
    "    return(U)\n",
    "\n",
    "\n",
    "def update_V(index, M, U, V):\n",
    "    r, s = index\n",
    "    m_nrow = M.shape[0]\n",
    "    m_ncol = M.shape[1]\n",
    "    sum_1 = 0\n",
    "    sum_2 = 0\n",
    "\n",
    "    for i in range(m_nrow):\n",
    "        if not np.isnan(M[i, s]):\n",
    "            prod = np.matmul(U[i, :], V[:, s]) - U[i, r] * V[r, s]\n",
    "            sum_1 += U[i, r] * (M[i, s] - prod)\n",
    "            sum_2 += U[i, r] ** 2\n",
    "\n",
    "    V[r, s] = sum_1 / sum_2\n",
    "\n",
    "    return(V)"
   ]
  },
  {
   "cell_type": "code",
   "execution_count": null,
   "metadata": {},
   "outputs": [],
   "source": [
    "def train_iteration(M, U, V):\n",
    "    u_index = list(np.ndindex(U.shape))\n",
    "    v_index = list(np.ndindex(V.shape))\n",
    "    np.random.shuffle(u_index)\n",
    "    np.random.shuffle(v_index)\n",
    "    while (len(u_index)>0) | (len(v_index)>0):\n",
    "        try:\n",
    "            u = u_index.pop()\n",
    "            U = update_U(u, M, U, V)\n",
    "        except:\n",
    "            pass\n",
    "        try:\n",
    "            v = v_index.pop()\n",
    "            V = update_V(v, M, U, V)\n",
    "        except:\n",
    "            pass\n",
    "    return U, V"
   ]
  },
  {
   "cell_type": "code",
   "execution_count": null,
   "metadata": {},
   "outputs": [],
   "source": [
    "def error(truth, pred):\n",
    "    \"\"\"\n",
    "    Computing the RMSE and MAE.\n",
    "    truth: pandas Dataframe,\n",
    "    pred: 2d numpy array\n",
    "    \"\"\"\n",
    "    err = []\n",
    "\n",
    "    for _, row in truth.iterrows():\n",
    "        err.append(row[\"Rating\"] - pred[(row[\"UserID\"]-1, row[\"MovieID\"]-1)])\n",
    "    \n",
    "    rmse = np.sqrt(np.mean(np.square(err)))\n",
    "    mae = np.mean(np.abs(err))\n",
    "\n",
    "    return rmse, mae"
   ]
  },
  {
   "cell_type": "code",
   "execution_count": null,
   "metadata": {},
   "outputs": [],
   "source": [
    "num_users = ratings[\"UserID\"].max()\n",
    "num_movies = ratings[\"MovieID\"].max()\n",
    "def df_to_arr(df):\n",
    "    arr = np.full([num_users, num_movies], np.nan)\n",
    "\n",
    "    for _, row in df.iterrows():\n",
    "        arr[(row[\"UserID\"]-1, row[\"MovieID\"]-1)] = row[\"Rating\"]\n",
    "\n",
    "    arr[np.isnan(arr)] = arr.mean()\n",
    "\n",
    "    return arr\n",
    "\n",
    "train_table = df_to_arr(train)"
   ]
  },
  {
   "cell_type": "code",
   "execution_count": null,
   "metadata": {},
   "outputs": [
    {
     "name": "stdout",
     "output_type": "stream",
     "text": [
      "(3.1407328159574774, 2.1575741742855787)\n"
     ]
    }
   ],
   "source": [
    "num_factors = 10\n",
    "\n",
    "U = np.ones((num_users, num_factors))\n",
    "V = np.ones((num_factors, num_movies))\n",
    "\n",
    "for _ in range(50):\n",
    "    U, V = train_iteration(train_table, U, V)\n",
    "    print(_+1, error(train, np.matmul(U, V)))"
   ]
  }
 ],
 "metadata": {
  "kernelspec": {
   "display_name": "Python 3.8.12 ('data')",
   "language": "python",
   "name": "python3"
  },
  "language_info": {
   "codemirror_mode": {
    "name": "ipython",
    "version": 3
   },
   "file_extension": ".py",
   "mimetype": "text/x-python",
   "name": "python",
   "nbconvert_exporter": "python",
   "pygments_lexer": "ipython3",
   "version": "3.8.12"
  },
  "orig_nbformat": 4,
  "vscode": {
   "interpreter": {
    "hash": "f3da49ec05f9dbd0d72ceda6b47a933377c6e07853ffe18027fb53093d66a25f"
   }
  }
 },
 "nbformat": 4,
 "nbformat_minor": 2
}
