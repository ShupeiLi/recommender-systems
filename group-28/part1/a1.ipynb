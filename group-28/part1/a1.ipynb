{
 "cells": [
  {
   "cell_type": "code",
   "execution_count": 13,
   "metadata": {},
   "outputs": [],
   "source": [
    "import numpy as np\n",
    "import pandas as pd\n",
    "from sklearn.model_selection import KFold"
   ]
  },
  {
   "cell_type": "code",
   "execution_count": 14,
   "metadata": {},
   "outputs": [],
   "source": [
    "ratings = pd.read_table(\"ratings.dat\", sep=\"::\", names=[\"UserID\", \"MovieID\", \"Rating\", \"Timestamp\"], engine=\"python\")"
   ]
  },
  {
   "cell_type": "code",
   "execution_count": 15,
   "metadata": {},
   "outputs": [
    {
     "data": {
      "text/html": [
       "<div>\n",
       "<style scoped>\n",
       "    .dataframe tbody tr th:only-of-type {\n",
       "        vertical-align: middle;\n",
       "    }\n",
       "\n",
       "    .dataframe tbody tr th {\n",
       "        vertical-align: top;\n",
       "    }\n",
       "\n",
       "    .dataframe thead th {\n",
       "        text-align: right;\n",
       "    }\n",
       "</style>\n",
       "<table border=\"1\" class=\"dataframe\">\n",
       "  <thead>\n",
       "    <tr style=\"text-align: right;\">\n",
       "      <th></th>\n",
       "      <th>UserID</th>\n",
       "      <th>MovieID</th>\n",
       "      <th>Rating</th>\n",
       "    </tr>\n",
       "  </thead>\n",
       "  <tbody>\n",
       "    <tr>\n",
       "      <th>0</th>\n",
       "      <td>1</td>\n",
       "      <td>1193</td>\n",
       "      <td>5</td>\n",
       "    </tr>\n",
       "    <tr>\n",
       "      <th>1</th>\n",
       "      <td>1</td>\n",
       "      <td>661</td>\n",
       "      <td>3</td>\n",
       "    </tr>\n",
       "    <tr>\n",
       "      <th>2</th>\n",
       "      <td>1</td>\n",
       "      <td>914</td>\n",
       "      <td>3</td>\n",
       "    </tr>\n",
       "    <tr>\n",
       "      <th>3</th>\n",
       "      <td>1</td>\n",
       "      <td>3408</td>\n",
       "      <td>4</td>\n",
       "    </tr>\n",
       "    <tr>\n",
       "      <th>4</th>\n",
       "      <td>1</td>\n",
       "      <td>2355</td>\n",
       "      <td>5</td>\n",
       "    </tr>\n",
       "    <tr>\n",
       "      <th>...</th>\n",
       "      <td>...</td>\n",
       "      <td>...</td>\n",
       "      <td>...</td>\n",
       "    </tr>\n",
       "    <tr>\n",
       "      <th>1000200</th>\n",
       "      <td>6040</td>\n",
       "      <td>2028</td>\n",
       "      <td>5</td>\n",
       "    </tr>\n",
       "    <tr>\n",
       "      <th>1000203</th>\n",
       "      <td>6040</td>\n",
       "      <td>1090</td>\n",
       "      <td>3</td>\n",
       "    </tr>\n",
       "    <tr>\n",
       "      <th>1000204</th>\n",
       "      <td>6040</td>\n",
       "      <td>1091</td>\n",
       "      <td>1</td>\n",
       "    </tr>\n",
       "    <tr>\n",
       "      <th>1000206</th>\n",
       "      <td>6040</td>\n",
       "      <td>562</td>\n",
       "      <td>5</td>\n",
       "    </tr>\n",
       "    <tr>\n",
       "      <th>1000208</th>\n",
       "      <td>6040</td>\n",
       "      <td>1097</td>\n",
       "      <td>4</td>\n",
       "    </tr>\n",
       "  </tbody>\n",
       "</table>\n",
       "<p>800167 rows × 3 columns</p>\n",
       "</div>"
      ],
      "text/plain": [
       "         UserID  MovieID  Rating\n",
       "0             1     1193       5\n",
       "1             1      661       3\n",
       "2             1      914       3\n",
       "3             1     3408       4\n",
       "4             1     2355       5\n",
       "...         ...      ...     ...\n",
       "1000200    6040     2028       5\n",
       "1000203    6040     1090       3\n",
       "1000204    6040     1091       1\n",
       "1000206    6040      562       5\n",
       "1000208    6040     1097       4\n",
       "\n",
       "[800167 rows x 3 columns]"
      ]
     },
     "execution_count": 15,
     "metadata": {},
     "output_type": "execute_result"
    }
   ],
   "source": [
    "kf = KFold(n_splits=5, shuffle=True)\n",
    "\n",
    "for _train, _test in kf.split(ratings):\n",
    "    train = ratings.loc[_train.tolist(), [\"UserID\", \"MovieID\", \"Rating\"]]\n",
    "    test = ratings.loc[_test.tolist(), [\"UserID\", \"MovieID\", \"Rating\"]]\n",
    "    break\n",
    "\n",
    "train"
   ]
  },
  {
   "cell_type": "code",
   "execution_count": 16,
   "metadata": {},
   "outputs": [],
   "source": [
    "def update_U(index, M, U, V):\n",
    "    r, s = index\n",
    "    m_nrow = M.shape[0]\n",
    "    m_ncol = M.shape[1]\n",
    "    sum_1 = 0\n",
    "    sum_2 = 0\n",
    "\n",
    "    for j in range(m_ncol):\n",
    "        if not np.isnan(M[r, j]):\n",
    "            prod = np.matmul(U[r, :], V[:, j]) - U[r, s] * V[s, j]\n",
    "            sum_1 += V[s, j] * (M[r, j] - prod)\n",
    "            sum_2 += V[s, j] ** 2\n",
    "\n",
    "    U[r, s] = sum_1 / sum_2\n",
    "\n",
    "    return(U)\n",
    "\n",
    "\n",
    "def update_V(index, M, U, V):\n",
    "    r, s = index\n",
    "    m_nrow = M.shape[0]\n",
    "    m_ncol = M.shape[1]\n",
    "    sum_1 = 0\n",
    "    sum_2 = 0\n",
    "\n",
    "    for i in range(m_nrow):\n",
    "        if not np.isnan(M[i, s]):\n",
    "            prod = np.matmul(U[i, :], V[:, s]) - U[i, r] * V[r, s]\n",
    "            sum_1 += U[i, r] * (M[i, s] - prod)\n",
    "            sum_2 += U[i, r] ** 2\n",
    "\n",
    "    V[r, s] = sum_1 / sum_2\n",
    "\n",
    "    return(V)"
   ]
  },
  {
   "cell_type": "code",
   "execution_count": 17,
   "metadata": {},
   "outputs": [],
   "source": [
    "def train_iteration(M, U, V):\n",
    "    u_index = list(np.ndindex(U.shape))\n",
    "    v_index = list(np.ndindex(V.shape))\n",
    "    np.random.shuffle(u_index)\n",
    "    np.random.shuffle(v_index)\n",
    "    while (len(u_index)>0) | (len(v_index)>0):\n",
    "        try:\n",
    "            u = u_index.pop()\n",
    "            U = update_U(u, M, U, V)\n",
    "        except:\n",
    "            pass\n",
    "        try:\n",
    "            v = v_index.pop()\n",
    "            V = update_V(v, M, U, V)\n",
    "        except:\n",
    "            pass\n",
    "    return U, V"
   ]
  },
  {
   "cell_type": "code",
   "execution_count": 18,
   "metadata": {},
   "outputs": [],
   "source": [
    "def error(truth, pred):\n",
    "    \"\"\"\n",
    "    Computing the RMSE and MAE.\n",
    "    truth: pandas Dataframe,\n",
    "    pred: 2d numpy array\n",
    "    \"\"\"\n",
    "    err = []\n",
    "\n",
    "    for _, row in truth.iterrows():\n",
    "        err.append(row[\"Rating\"] - pred[(row[\"UserID\"]-1, row[\"MovieID\"]-1)])\n",
    "    \n",
    "    rmse = np.sqrt(np.mean(np.square(err)))\n",
    "    mae = np.mean(np.abs(err))\n",
    "\n",
    "    return rmse, mae"
   ]
  },
  {
   "cell_type": "code",
   "execution_count": 20,
   "metadata": {},
   "outputs": [],
   "source": [
    "num_users = ratings[\"UserID\"].max()\n",
    "num_movies = ratings[\"MovieID\"].max()\n",
    "def df_to_arr(df):\n",
    "    arr = np.full([num_users, num_movies], np.nan)\n",
    "\n",
    "    for _, row in df.iterrows():\n",
    "        arr[(row[\"UserID\"]-1, row[\"MovieID\"]-1)] = row[\"Rating\"]\n",
    "\n",
    "    arr[np.isnan(arr)] = arr.mean()\n",
    "\n",
    "    return arr\n",
    "\n",
    "train_table = df_to_arr(train)"
   ]
  },
  {
   "cell_type": "code",
   "execution_count": 21,
   "metadata": {},
   "outputs": [
    {
     "name": "stdout",
     "output_type": "stream",
     "text": [
      "1 (1.0104654000565192, 0.787926380742584) (1.0421330202513654, 0.8114810454357232)\n",
      "2 (0.9279877134740774, 0.7311627867098542) (0.9631884707222148, 0.7572132047300657)\n",
      "3 (0.9041795667695903, 0.7139258469911866) (0.9454977848744442, 0.7420091416499481)\n",
      "4 (0.8946704303355777, 0.7066947954302284) (0.9384750199969268, 0.7367951176892252)\n",
      "5 (0.8894705920959131, 0.7026497552522759) (0.9352485181573462, 0.7343675027008939)\n",
      "6 (0.8859505637519851, 0.69986664328855) (0.9324790723459099, 0.7332891586815078)\n",
      "7 (0.8831773493390158, 0.6976258281600012) (0.931919129629897, 0.732732411015362)\n",
      "8 (0.8806908356107092, 0.6955576708785715) (0.9323574986242212, 0.7324750833529172)\n",
      "9 (0.8782998204322278, 0.6935650456702459) (0.9324045511165462, 0.7321859623564785)\n",
      "10 (0.8758782342704721, 0.6914382774915089) (0.9322716679588289, 0.7316793055382874)\n",
      "11 (0.8733198390534729, 0.6891714812586446) (0.9301701789800138, 0.7308357678830049)\n",
      "12 (0.8705955337915536, 0.6869018627467482) (0.9295708350686724, 0.7300188835183201)\n",
      "13 (0.867606789666708, 0.6842955703120752) (0.9284791934491041, 0.7287197049407976)\n",
      "14 (0.8644906739745342, 0.6815975665434137) (0.9272097586294438, 0.7274010052831816)\n",
      "15 (0.8611951311892286, 0.6787217413847864) (0.925640004088099, 0.7256737668627703)\n",
      "16 (0.8578723569588234, 0.6758638630280807) (0.9237497313407929, 0.7237818998301835)\n",
      "17 (0.8546636854418487, 0.6730248094068544) (0.9215832562245013, 0.721837902407795)\n",
      "18 (0.8516416308078754, 0.6705117065152355) (0.9194923798039817, 0.719980328850503)\n",
      "19 (0.8488776375176507, 0.6680666154577629) (0.9177180078322285, 0.718215624384974)\n",
      "20 (0.8463466039354502, 0.6658671478363596) (0.9161859095903997, 0.7166365773889447)\n"
     ]
    }
   ],
   "source": [
    "num_factors = 5\n",
    "\n",
    "U = np.ones((num_users, num_factors))\n",
    "V = np.ones((num_factors, num_movies))\n",
    "\n",
    "for _ in range(20):\n",
    "    U, V = train_iteration(train_table, U, V)\n",
    "    \n",
    "    print(_+1, error(train, np.matmul(U, V)), error(test, np.matmul(U, V)))"
   ]
  },
  {
   "cell_type": "code",
   "execution_count": 22,
   "metadata": {},
   "outputs": [
    {
     "name": "stdout",
     "output_type": "stream",
     "text": [
      "21 (0.844085333267103, 0.6639285583696057) (0.9151768498750912, 0.7153339720648282)\n"
     ]
    }
   ],
   "source": [
    "for _ in range(20):\n",
    "    U, V = train_iteration(train_table, U, V)\n",
    "    \n",
    "    print(_+21, error(train, np.matmul(U, V)), error(test, np.matmul(U, V)))"
   ]
  }
 ],
 "metadata": {
  "kernelspec": {
   "display_name": "Python 3 (ipykernel)",
   "language": "python",
   "name": "python3"
  },
  "language_info": {
   "codemirror_mode": {
    "name": "ipython",
    "version": 3
   },
   "file_extension": ".py",
   "mimetype": "text/x-python",
   "name": "python",
   "nbconvert_exporter": "python",
   "pygments_lexer": "ipython3",
   "version": "3.9.13"
  },
  "vscode": {
   "interpreter": {
    "hash": "f3da49ec05f9dbd0d72ceda6b47a933377c6e07853ffe18027fb53093d66a25f"
   }
  }
 },
 "nbformat": 4,
 "nbformat_minor": 2
}
